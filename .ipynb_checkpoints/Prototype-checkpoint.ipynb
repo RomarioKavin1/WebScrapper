{
 "cells": [
  {
   "cell_type": "code",
   "execution_count": 12,
   "id": "7729b785",
   "metadata": {},
   "outputs": [],
   "source": [
    "import csv\n",
    "from bs4 import BeautifulSoup"
   ]
  },
  {
   "cell_type": "code",
   "execution_count": 13,
   "id": "ba74ae8f",
   "metadata": {},
   "outputs": [],
   "source": [
    "from selenium import webdriver"
   ]
  },
  {
   "cell_type": "code",
   "execution_count": 14,
   "id": "6852e097",
   "metadata": {},
   "outputs": [],
   "source": [
    "driver=webdriver.Chrome()"
   ]
  },
  {
   "cell_type": "code",
   "execution_count": 15,
   "id": "cc8781aa",
   "metadata": {},
   "outputs": [],
   "source": [
    "\n",
    "url='https://www.amazon.in/s?k=bags&crid=2M096C61O4MLT&qid=1653308124&sprefix=ba%2Caps%2C283&ref=sr_pg_1'\n",
    "driver.get(url)"
   ]
  },
  {
   "cell_type": "code",
   "execution_count": 16,
   "id": "35aa8414",
   "metadata": {},
   "outputs": [],
   "source": [
    "soup =BeautifulSoup(driver.page_source,'html.parser')"
   ]
  },
  {
   "cell_type": "code",
   "execution_count": 17,
   "id": "5d26f597",
   "metadata": {},
   "outputs": [],
   "source": [
    "#results = soup.find_all('div',{'class':'s-list-col-right'})\n",
    "results = soup.find_all('div',{'data-component-type':'s-search-result'})\n"
   ]
  },
  {
   "cell_type": "code",
   "execution_count": 47,
   "id": "17610f58",
   "metadata": {
    "scrolled": true
   },
   "outputs": [
    {
     "data": {
      "text/plain": [
       "22"
      ]
     },
     "execution_count": 47,
     "metadata": {},
     "output_type": "execute_result"
    }
   ],
   "source": [
    "len(results)"
   ]
  },
  {
   "cell_type": "code",
   "execution_count": 66,
   "id": "b536df6e",
   "metadata": {},
   "outputs": [],
   "source": [
    "item = results[1]"
   ]
  },
  {
   "cell_type": "code",
   "execution_count": 67,
   "id": "79df81cf",
   "metadata": {},
   "outputs": [],
   "source": [
    "taga=item.h2.a"
   ]
  },
  {
   "cell_type": "code",
   "execution_count": 68,
   "id": "ed08cc97",
   "metadata": {},
   "outputs": [
    {
     "data": {
      "text/plain": [
       "'Red Lemon Swisslook Polyester Bange Series 45L 15.6-inch Laptop Bags Backpack for Men and Women Waterproof USB Anti Theft Travel Backpack'"
      ]
     },
     "execution_count": 68,
     "metadata": {},
     "output_type": "execute_result"
    }
   ],
   "source": [
    "name=taga.text.strip()\n",
    "name"
   ]
  },
  {
   "cell_type": "code",
   "execution_count": 69,
   "id": "74d50c8d",
   "metadata": {},
   "outputs": [
    {
     "data": {
      "text/plain": [
       "'https://www.amazon.com/sspa/click?ie=UTF8&spc=MTozOTE5MzI3Mjg4NDgyNTU3OjE2NzUyNjI5MTE6c3BfYXRmOjIwMDg2ODA0MTcyODk4OjowOjo&url=%2FSwisslook-Polyester-15-6-inch-Backpack-Waterproof%2Fdp%2FB07XYTZP4Z%2Fref%3Dsr_1_2_sspa%3Fcrid%3D2M096C61O4MLT%26keywords%3Dbags%26qid%3D1675262911%26sprefix%3Dba%252Caps%252C283%26sr%3D8-2-spons%26sp_csd%3Dd2lkZ2V0TmFtZT1zcF9hdGY%26psc%3D1'"
      ]
     },
     "execution_count": 69,
     "metadata": {},
     "output_type": "execute_result"
    }
   ],
   "source": [
    "produrl='https://www.amazon.com'+taga.get('href')\n",
    "produrl"
   ]
  },
  {
   "cell_type": "code",
   "execution_count": 70,
   "id": "83110d8f",
   "metadata": {},
   "outputs": [
    {
     "data": {
      "text/plain": [
       "'2,849'"
      ]
     },
     "execution_count": 70,
     "metadata": {},
     "output_type": "execute_result"
    }
   ],
   "source": [
    "price=item.find('span','a-price-whole').text\n",
    "price"
   ]
  },
  {
   "cell_type": "code",
   "execution_count": 28,
   "id": "373713ee",
   "metadata": {},
   "outputs": [
    {
     "data": {
      "text/plain": [
       "'3.9 out of 5 stars'"
      ]
     },
     "execution_count": 28,
     "metadata": {},
     "output_type": "execute_result"
    }
   ],
   "source": [
    "rating=item.i.text\n",
    "rating"
   ]
  },
  {
   "cell_type": "code",
   "execution_count": 29,
   "id": "55f55066",
   "metadata": {
    "scrolled": true
   },
   "outputs": [
    {
     "data": {
      "text/plain": [
       "'684'"
      ]
     },
     "execution_count": 29,
     "metadata": {},
     "output_type": "execute_result"
    }
   ],
   "source": [
    "no_rating=item.find('span','a-size-base s-underline-text').text\n",
    "no_rating"
   ]
  },
  {
   "cell_type": "code",
   "execution_count": 77,
   "id": "ed460de4",
   "metadata": {},
   "outputs": [],
   "source": [
    "def extract_record(item):\n",
    "    taga=item.h2.a\n",
    "    name=taga.text.strip()\n",
    "    try:\n",
    "        produrl='https://www.amazon.com'+taga.get('href')\n",
    "        price=item.find('span','a-price-whole').text\n",
    "    except AttributeError:\n",
    "        return\n",
    "    try:\n",
    "        rating=item.i.text\n",
    "        no_rating=item.find('span','a-size-base s-underline-text').text\n",
    "    except AttributeError:\n",
    "        rating=''\n",
    "        no_rating=''\n",
    "    result=(name,rating,price,no_rating,produrl)\n",
    "    return result"
   ]
  },
  {
   "cell_type": "code",
   "execution_count": 79,
   "id": "7792ed94",
   "metadata": {},
   "outputs": [],
   "source": [
    "records=[]\n",
    "results = soup.find_all('div',{'data-component-type':'s-search-result'})\n",
    "\n",
    "for i in results:\n",
    "    \n",
    "    record=extract_record(i)\n",
    "    if record:\n",
    "        records.append(record)"
   ]
  },
  {
   "cell_type": "code",
   "execution_count": 88,
   "id": "2f44529a",
   "metadata": {},
   "outputs": [
    {
     "data": {
      "text/plain": [
       "('Half Moon Large 37L Laptop Bag Backpack for menं Women Boys and Girls Luggage Travel Bags with 17.3 inches Laptop Compartment & Rain Cover',\n",
       " '3.9 out of 5 stars',\n",
       " '849',\n",
       " '2,124',\n",
       " 'https://www.amazon.com/Half-Moon-Backpack-Luggage-Compartment/dp/B09VCLZ3K4/ref=sr_1_16?crid=2M096C61O4MLT&keywords=bags&qid=1675262911&sprefix=ba%2Caps%2C283&sr=8-16')"
      ]
     },
     "execution_count": 88,
     "metadata": {},
     "output_type": "execute_result"
    }
   ],
   "source": [
    "records[15]"
   ]
  },
  {
   "cell_type": "code",
   "execution_count": 92,
   "id": "01f70923",
   "metadata": {},
   "outputs": [],
   "source": [
    "def urlpage(pg):\n",
    "    pg=str(pg)\n",
    "    url='https://www.amazon.in/s?k=bags&crid=2M096C61O4MLT&qid=1653308124&sprefix=ba%2Caps%2C283&ref=sr_pg_1'\n",
    "    if(pg==1):\n",
    "        return url\n",
    "    else:\n",
    "        url='https://www.amazon.in/s?k=bags&page='+pg+'&crid=2M096C61O4MLT&qid=1675266421&sprefix=ba%2Caps%2C283&ref=sr_pg_'+pg\n",
    "        return url"
   ]
  },
  {
   "cell_type": "markdown",
   "id": "99af20dc",
   "metadata": {},
   "source": [
    "# Main part 1"
   ]
  },
  {
   "cell_type": "code",
   "execution_count": 72,
   "id": "a20994a8",
   "metadata": {},
   "outputs": [],
   "source": [
    "import csv\n",
    "from bs4 import BeautifulSoup\n",
    "from selenium import webdriver\n",
    "driver=webdriver.Chrome()\n",
    "def urlpage(pg):\n",
    "    pg=str(pg)\n",
    "    url='https://www.amazon.in/s?k=bags&crid=2M096C61O4MLT&qid=1653308124&sprefix=ba%2Caps%2C283&ref=sr_pg_1'\n",
    "    if(pg==1):\n",
    "        return url\n",
    "    else:\n",
    "        url='https://www.amazon.in/s?k=bags&page='+pg+'&crid=2M096C61O4MLT&qid=1675266421&sprefix=ba%2Caps%2C283&ref=sr_pg_'+pg\n",
    "        return url\n",
    "def extract_record(item):\n",
    "    taga=item.h2.a\n",
    "    name=taga.text.strip()\n",
    "    try:\n",
    "        produrl='https://www.amazon.in'+taga.get('href')\n",
    "        price=item.find('span','a-price-whole').text\n",
    "    except AttributeError:\n",
    "        return\n",
    "    try:\n",
    "        rating=item.i.text\n",
    "        no_rating=item.find('span','a-size-base s-underline-text').text\n",
    "    except AttributeError:\n",
    "        rating=''\n",
    "        no_rating=''\n",
    "    result=(name,price,rating,no_rating,produrl)\n",
    "    return result\n",
    "records=[]\n",
    "for page in range(1,21):\n",
    "    url=urlpage(page)\n",
    "    driver.get(url)\n",
    "    soup =BeautifulSoup(driver.page_source,'html.parser')\n",
    "    results = soup.find_all('div',{'data-component-type':'s-search-result'})\n",
    "    for i in results:\n",
    "        record=extract_record(i)\n",
    "        if record:\n",
    "            records.append(record)"
   ]
  },
  {
   "cell_type": "code",
   "execution_count": 42,
   "id": "4ed20709",
   "metadata": {},
   "outputs": [],
   "source": [
    "import re"
   ]
  },
  {
   "cell_type": "code",
   "execution_count": 73,
   "id": "b0cbeef6",
   "metadata": {},
   "outputs": [],
   "source": [
    "with open('results.csv','w',newline='',encoding='utf-8') as f:\n",
    "    writer = csv.writer(f)\n",
    "    writer.writerow(['Name','Price','Rating','No. of Rating','Link'])\n",
    "    writer.writerows(records)"
   ]
  },
  {
   "cell_type": "code",
   "execution_count": 18,
   "id": "189e2f50",
   "metadata": {},
   "outputs": [],
   "source": [
    "url=\"https://www.amazon.in/uppercase-Backpack-2000EBP1-repellent-sustainable/dp/B0B8NX7SXR/ref=sr_1_305_sspa?crid=2M096C61O4MLT&keywords=bags&qid=1675268942&sprefix=ba%2Caps%2C283&sr=8-305-spons&sp_csd=d2lkZ2V0TmFtZT1zcF9hdGZfbmV4dA&th=1\"\n",
    "driver.get(url)\n",
    "soup =BeautifulSoup(driver.page_source,'html.parser')"
   ]
  },
  {
   "cell_type": "code",
   "execution_count": 31,
   "id": "f7edfafd",
   "metadata": {},
   "outputs": [
    {
     "data": {
      "text/plain": [
       "'uppercase Medium 20 Ltrs Casual (14.6 inch) Laptop Backpack 2000EBP1 3x more water repellent sustainable bags with rain proof zippers for Men, Women, Boys and Girls, 750 Days warranty'"
      ]
     },
     "execution_count": 31,
     "metadata": {},
     "output_type": "execute_result"
    }
   ],
   "source": [
    "title =soup.find('span',{'id':'productTitle'})\n",
    "title.text.strip()"
   ]
  },
  {
   "cell_type": "code",
   "execution_count": 19,
   "id": "b0546ce3",
   "metadata": {
    "scrolled": false
   },
   "outputs": [
    {
     "data": {
      "text/plain": [
       "'  Care Instructions: Wipe with Damp Cloth    Please reach out to our customer care at +91 8691800800 or email at customercare@uppercase.co.in for warranty registration and any query regarding the product. Handcrafted with care and made up of premium quality robust material; Wrinkle free bag and 3x more water resistant with Rainproof zippers     Trolley sleeve to securely place the bags on the luggage; Padded laptop compartment fits up to 15”, Back padding with Air mesh; Right sized with sturdy stitching; Dimension: (30 cm x 14.5 cm x 46cm); Warranty: 750 days international warranty     GRS certified for sustainability; The GRS (Global Recycled Standard) is intended for use with any product that contains at least 50% Recycled Material (License No. CMPY-158596)     Uniquely-designed, magnetic quick-access pocket located on the shoulder strap for you to easily carry important small items and not have to worry about zippers.     Age Range Description: Adult; Material Type: Polyester; Lining Description: Polyester; Pattern Name: Solid    '"
      ]
     },
     "execution_count": 19,
     "metadata": {},
     "output_type": "execute_result"
    }
   ],
   "source": [
    "description = soup.find('ul',{'class':'a-unordered-list a-vertical a-spacing-mini'}).text\n",
    "description"
   ]
  },
  {
   "cell_type": "code",
   "execution_count": 50,
   "id": "e060cbaf",
   "metadata": {
    "scrolled": true
   },
   "outputs": [
    {
     "data": {
      "text/plain": [
       "'  Product Dimensions:14.5 x 30 x 46 cm; 0.45 Grams   Date First Available:4 August 2022   Manufacturer:Acefour Accessories Pvt. Ltd.   ASIN:B0B8NX7SXR   Item model number:2000EBP1GRN   Country of Origin:India   Department:unisex-adult   Manufacturer:Acefour Accessories Pvt. Ltd., Acefour Accessories Pvt. Ltd. , Lodha Supremus Corp. Tower, Unit 1202,12th Floor,Saki Vihar road, Chandivali, Tunga Village, Opp. MTNL office, Andheri E, Mumbai -400072, Maharashtra, India   Item Weight:0.46 g   Item Dimensions LxWxH:14.5 x 30 x 46 Centimeters  '"
      ]
     },
     "execution_count": 50,
     "metadata": {},
     "output_type": "execute_result"
    }
   ],
   "source": [
    "prod_details_parent=[]\n",
    "prod_details_parent=soup.find('ul',{'class':'a-unordered-list a-nostyle a-vertical a-spacing-none detail-bullet-list'}).text\n",
    "prod_details_parent=re.sub('\\n                                    \\u200f\\n                                        :\\n                                    \\u200e\\n                                 ',':',prod_details_parent)\n",
    "prod_details_parent"
   ]
  },
  {
   "cell_type": "code",
   "execution_count": 55,
   "id": "24eeda2f",
   "metadata": {},
   "outputs": [
    {
     "data": {
      "text/plain": [
       "'B0B8NX7SXR'"
      ]
     },
     "execution_count": 55,
     "metadata": {},
     "output_type": "execute_result"
    }
   ],
   "source": [
    "n=prod_details_parent.index('ASIN')\n",
    "asin=prod_details_parent[n+5:n+15]\n",
    "asin"
   ]
  },
  {
   "cell_type": "code",
   "execution_count": 62,
   "id": "dfda468e",
   "metadata": {},
   "outputs": [
    {
     "data": {
      "text/plain": [
       "'Acefour Accessories Pvt. Ltd.'"
      ]
     },
     "execution_count": 62,
     "metadata": {},
     "output_type": "execute_result"
    }
   ],
   "source": [
    "n=prod_details_parent.index('Manufacturer')\n",
    "l=prod_details_parent.find('  ',n)\n",
    "manu=prod_details_parent[n+13:l]\n",
    "manu"
   ]
  },
  {
   "cell_type": "markdown",
   "id": "b7b3434c",
   "metadata": {},
   "source": [
    "## part 2"
   ]
  },
  {
   "cell_type": "code",
   "execution_count": 66,
   "id": "c135d94a",
   "metadata": {},
   "outputs": [],
   "source": [
    "import pandas as pd\n",
    "import re"
   ]
  },
  {
   "cell_type": "code",
   "execution_count": 75,
   "id": "bf19c629",
   "metadata": {
    "scrolled": true
   },
   "outputs": [
    {
     "ename": "NoSuchWindowException",
     "evalue": "Message: no such window: target window already closed\nfrom unknown error: web view not found\n  (Session info: chrome=109.0.5414.120)\nStacktrace:\nBacktrace:\n\t(No symbol) [0x01086643]\n\t(No symbol) [0x0101BE21]\n\t(No symbol) [0x00F1DA9D]\n\t(No symbol) [0x00EFEF6A]\n\t(No symbol) [0x00F73AAB]\n\t(No symbol) [0x00F861B6]\n\t(No symbol) [0x00F6FB76]\n\t(No symbol) [0x00F449C1]\n\t(No symbol) [0x00F45E5D]\n\tGetHandleVerifier [0x012FA142+2497106]\n\tGetHandleVerifier [0x013285D3+2686691]\n\tGetHandleVerifier [0x0132BB9C+2700460]\n\tGetHandleVerifier [0x01133B10+635936]\n\t(No symbol) [0x01024A1F]\n\t(No symbol) [0x0102A418]\n\t(No symbol) [0x0102A505]\n\t(No symbol) [0x0103508B]\n\tBaseThreadInitThunk [0x757300F9+25]\n\tRtlGetAppContainerNamedObjectPath [0x77087BBE+286]\n\tRtlGetAppContainerNamedObjectPath [0x77087B8E+238]\n",
     "output_type": "error",
     "traceback": [
      "\u001b[1;31m---------------------------------------------------------------------------\u001b[0m",
      "\u001b[1;31mNoSuchWindowException\u001b[0m                     Traceback (most recent call last)",
      "\u001b[1;32m~\\AppData\\Local\\Temp\\ipykernel_3080\\3901857888.py\u001b[0m in \u001b[0;36m<module>\u001b[1;34m\u001b[0m\n\u001b[0;32m      4\u001b[0m \u001b[0mrecord2\u001b[0m\u001b[1;33m=\u001b[0m\u001b[1;33m[\u001b[0m\u001b[1;33m]\u001b[0m\u001b[1;33m\u001b[0m\u001b[1;33m\u001b[0m\u001b[0m\n\u001b[0;32m      5\u001b[0m \u001b[1;32mfor\u001b[0m \u001b[0mi\u001b[0m \u001b[1;32min\u001b[0m \u001b[0murls\u001b[0m\u001b[1;33m:\u001b[0m\u001b[1;33m\u001b[0m\u001b[1;33m\u001b[0m\u001b[0m\n\u001b[1;32m----> 6\u001b[1;33m     \u001b[0mdriver\u001b[0m\u001b[1;33m.\u001b[0m\u001b[0mget\u001b[0m\u001b[1;33m(\u001b[0m\u001b[0mi\u001b[0m\u001b[1;33m)\u001b[0m\u001b[1;33m\u001b[0m\u001b[1;33m\u001b[0m\u001b[0m\n\u001b[0m\u001b[0;32m      7\u001b[0m     \u001b[0msoup\u001b[0m \u001b[1;33m=\u001b[0m\u001b[0mBeautifulSoup\u001b[0m\u001b[1;33m(\u001b[0m\u001b[0mdriver\u001b[0m\u001b[1;33m.\u001b[0m\u001b[0mpage_source\u001b[0m\u001b[1;33m,\u001b[0m\u001b[1;34m'html.parser'\u001b[0m\u001b[1;33m)\u001b[0m\u001b[1;33m\u001b[0m\u001b[1;33m\u001b[0m\u001b[0m\n\u001b[0;32m      8\u001b[0m     \u001b[0mtitle\u001b[0m \u001b[1;33m=\u001b[0m\u001b[0msoup\u001b[0m\u001b[1;33m.\u001b[0m\u001b[0mfind\u001b[0m\u001b[1;33m(\u001b[0m\u001b[1;34m'span'\u001b[0m\u001b[1;33m,\u001b[0m\u001b[1;33m{\u001b[0m\u001b[1;34m'id'\u001b[0m\u001b[1;33m:\u001b[0m\u001b[1;34m'productTitle'\u001b[0m\u001b[1;33m}\u001b[0m\u001b[1;33m)\u001b[0m\u001b[1;33m\u001b[0m\u001b[1;33m\u001b[0m\u001b[0m\n",
      "\u001b[1;32mW:\\Anaconda\\lib\\site-packages\\selenium\\webdriver\\remote\\webdriver.py\u001b[0m in \u001b[0;36mget\u001b[1;34m(self, url)\u001b[0m\n\u001b[0;32m    447\u001b[0m     \u001b[1;32mdef\u001b[0m \u001b[0mget\u001b[0m\u001b[1;33m(\u001b[0m\u001b[0mself\u001b[0m\u001b[1;33m,\u001b[0m \u001b[0murl\u001b[0m\u001b[1;33m:\u001b[0m \u001b[0mstr\u001b[0m\u001b[1;33m)\u001b[0m \u001b[1;33m->\u001b[0m \u001b[1;32mNone\u001b[0m\u001b[1;33m:\u001b[0m\u001b[1;33m\u001b[0m\u001b[1;33m\u001b[0m\u001b[0m\n\u001b[0;32m    448\u001b[0m         \u001b[1;34m\"\"\"Loads a web page in the current browser session.\"\"\"\u001b[0m\u001b[1;33m\u001b[0m\u001b[1;33m\u001b[0m\u001b[0m\n\u001b[1;32m--> 449\u001b[1;33m         \u001b[0mself\u001b[0m\u001b[1;33m.\u001b[0m\u001b[0mexecute\u001b[0m\u001b[1;33m(\u001b[0m\u001b[0mCommand\u001b[0m\u001b[1;33m.\u001b[0m\u001b[0mGET\u001b[0m\u001b[1;33m,\u001b[0m \u001b[1;33m{\u001b[0m\u001b[1;34m\"url\"\u001b[0m\u001b[1;33m:\u001b[0m \u001b[0murl\u001b[0m\u001b[1;33m}\u001b[0m\u001b[1;33m)\u001b[0m\u001b[1;33m\u001b[0m\u001b[1;33m\u001b[0m\u001b[0m\n\u001b[0m\u001b[0;32m    450\u001b[0m \u001b[1;33m\u001b[0m\u001b[0m\n\u001b[0;32m    451\u001b[0m     \u001b[1;33m@\u001b[0m\u001b[0mproperty\u001b[0m\u001b[1;33m\u001b[0m\u001b[1;33m\u001b[0m\u001b[0m\n",
      "\u001b[1;32mW:\\Anaconda\\lib\\site-packages\\selenium\\webdriver\\remote\\webdriver.py\u001b[0m in \u001b[0;36mexecute\u001b[1;34m(self, driver_command, params)\u001b[0m\n\u001b[0;32m    438\u001b[0m         \u001b[0mresponse\u001b[0m \u001b[1;33m=\u001b[0m \u001b[0mself\u001b[0m\u001b[1;33m.\u001b[0m\u001b[0mcommand_executor\u001b[0m\u001b[1;33m.\u001b[0m\u001b[0mexecute\u001b[0m\u001b[1;33m(\u001b[0m\u001b[0mdriver_command\u001b[0m\u001b[1;33m,\u001b[0m \u001b[0mparams\u001b[0m\u001b[1;33m)\u001b[0m\u001b[1;33m\u001b[0m\u001b[1;33m\u001b[0m\u001b[0m\n\u001b[0;32m    439\u001b[0m         \u001b[1;32mif\u001b[0m \u001b[0mresponse\u001b[0m\u001b[1;33m:\u001b[0m\u001b[1;33m\u001b[0m\u001b[1;33m\u001b[0m\u001b[0m\n\u001b[1;32m--> 440\u001b[1;33m             \u001b[0mself\u001b[0m\u001b[1;33m.\u001b[0m\u001b[0merror_handler\u001b[0m\u001b[1;33m.\u001b[0m\u001b[0mcheck_response\u001b[0m\u001b[1;33m(\u001b[0m\u001b[0mresponse\u001b[0m\u001b[1;33m)\u001b[0m\u001b[1;33m\u001b[0m\u001b[1;33m\u001b[0m\u001b[0m\n\u001b[0m\u001b[0;32m    441\u001b[0m             \u001b[0mresponse\u001b[0m\u001b[1;33m[\u001b[0m\u001b[1;34m\"value\"\u001b[0m\u001b[1;33m]\u001b[0m \u001b[1;33m=\u001b[0m \u001b[0mself\u001b[0m\u001b[1;33m.\u001b[0m\u001b[0m_unwrap_value\u001b[0m\u001b[1;33m(\u001b[0m\u001b[0mresponse\u001b[0m\u001b[1;33m.\u001b[0m\u001b[0mget\u001b[0m\u001b[1;33m(\u001b[0m\u001b[1;34m\"value\"\u001b[0m\u001b[1;33m,\u001b[0m \u001b[1;32mNone\u001b[0m\u001b[1;33m)\u001b[0m\u001b[1;33m)\u001b[0m\u001b[1;33m\u001b[0m\u001b[1;33m\u001b[0m\u001b[0m\n\u001b[0;32m    442\u001b[0m             \u001b[1;32mreturn\u001b[0m \u001b[0mresponse\u001b[0m\u001b[1;33m\u001b[0m\u001b[1;33m\u001b[0m\u001b[0m\n",
      "\u001b[1;32mW:\\Anaconda\\lib\\site-packages\\selenium\\webdriver\\remote\\errorhandler.py\u001b[0m in \u001b[0;36mcheck_response\u001b[1;34m(self, response)\u001b[0m\n\u001b[0;32m    243\u001b[0m                 \u001b[0malert_text\u001b[0m \u001b[1;33m=\u001b[0m \u001b[0mvalue\u001b[0m\u001b[1;33m[\u001b[0m\u001b[1;34m\"alert\"\u001b[0m\u001b[1;33m]\u001b[0m\u001b[1;33m.\u001b[0m\u001b[0mget\u001b[0m\u001b[1;33m(\u001b[0m\u001b[1;34m\"text\"\u001b[0m\u001b[1;33m)\u001b[0m\u001b[1;33m\u001b[0m\u001b[1;33m\u001b[0m\u001b[0m\n\u001b[0;32m    244\u001b[0m             \u001b[1;32mraise\u001b[0m \u001b[0mexception_class\u001b[0m\u001b[1;33m(\u001b[0m\u001b[0mmessage\u001b[0m\u001b[1;33m,\u001b[0m \u001b[0mscreen\u001b[0m\u001b[1;33m,\u001b[0m \u001b[0mstacktrace\u001b[0m\u001b[1;33m,\u001b[0m \u001b[0malert_text\u001b[0m\u001b[1;33m)\u001b[0m  \u001b[1;31m# type: ignore[call-arg]  # mypy is not smart enough here\u001b[0m\u001b[1;33m\u001b[0m\u001b[1;33m\u001b[0m\u001b[0m\n\u001b[1;32m--> 245\u001b[1;33m         \u001b[1;32mraise\u001b[0m \u001b[0mexception_class\u001b[0m\u001b[1;33m(\u001b[0m\u001b[0mmessage\u001b[0m\u001b[1;33m,\u001b[0m \u001b[0mscreen\u001b[0m\u001b[1;33m,\u001b[0m \u001b[0mstacktrace\u001b[0m\u001b[1;33m)\u001b[0m\u001b[1;33m\u001b[0m\u001b[1;33m\u001b[0m\u001b[0m\n\u001b[0m",
      "\u001b[1;31mNoSuchWindowException\u001b[0m: Message: no such window: target window already closed\nfrom unknown error: web view not found\n  (Session info: chrome=109.0.5414.120)\nStacktrace:\nBacktrace:\n\t(No symbol) [0x01086643]\n\t(No symbol) [0x0101BE21]\n\t(No symbol) [0x00F1DA9D]\n\t(No symbol) [0x00EFEF6A]\n\t(No symbol) [0x00F73AAB]\n\t(No symbol) [0x00F861B6]\n\t(No symbol) [0x00F6FB76]\n\t(No symbol) [0x00F449C1]\n\t(No symbol) [0x00F45E5D]\n\tGetHandleVerifier [0x012FA142+2497106]\n\tGetHandleVerifier [0x013285D3+2686691]\n\tGetHandleVerifier [0x0132BB9C+2700460]\n\tGetHandleVerifier [0x01133B10+635936]\n\t(No symbol) [0x01024A1F]\n\t(No symbol) [0x0102A418]\n\t(No symbol) [0x0102A505]\n\t(No symbol) [0x0103508B]\n\tBaseThreadInitThunk [0x757300F9+25]\n\tRtlGetAppContainerNamedObjectPath [0x77087BBE+286]\n\tRtlGetAppContainerNamedObjectPath [0x77087B8E+238]\n"
     ]
    }
   ],
   "source": [
    "f= pd.read_csv('results.csv')\n",
    "urls=f['Link'].tolist()\n",
    "urls\n",
    "record2=[]\n",
    "for i in urls:\n",
    "    driver.get(i)\n",
    "    soup =BeautifulSoup(driver.page_source,'html.parser')\n",
    "    title =soup.find('span',{'id':'productTitle'})\n",
    "    try:\n",
    "        title =title.text.strip()\n",
    "        description = soup.find('ul',{'class':'a-unordered-list a-vertical a-spacing-mini'}).text\n",
    "        prod_details_parent=[]\n",
    "        prod_details_parent=soup.find('ul',{'class':'a-unordered-list a-nostyle a-vertical a-spacing-none detail-bullet-list'}).text\n",
    "        prod_details_parent=re.sub('\\n                                    \\u200f\\n                                        :\\n                                    \\u200e\\n                                 ',':',prod_details_parent)\n",
    "        n=prod_details_parent.index('ASIN')\n",
    "        asin=prod_details_parent[n+5:n+15]\n",
    "        n=prod_details_parent.index('Manufacturer')\n",
    "        l=prod_details_parent.find('  ',n)\n",
    "        manu=prod_details_parent[n+13:l]\n",
    "    except(AttributeError,ValueError):\n",
    "        continue\n",
    "    details=(title,description,prod_details_parent,asin,manu)\n",
    "    record2.append(details)\n",
    "with open('results2.csv','w',newline='',encoding='utf-8') as f:\n",
    "    writer = csv.writer(f)\n",
    "    writer.writerow(['Name','Price','Rating','No. of Rating','Link'])\n",
    "    writer.writerows(records)"
   ]
  }
 ],
 "metadata": {
  "kernelspec": {
   "display_name": "Python 3 (ipykernel)",
   "language": "python",
   "name": "python3"
  },
  "language_info": {
   "codemirror_mode": {
    "name": "ipython",
    "version": 3
   },
   "file_extension": ".py",
   "mimetype": "text/x-python",
   "name": "python",
   "nbconvert_exporter": "python",
   "pygments_lexer": "ipython3",
   "version": "3.9.13"
  }
 },
 "nbformat": 4,
 "nbformat_minor": 5
}
