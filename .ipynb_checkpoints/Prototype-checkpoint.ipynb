{
 "cells": [
  {
   "cell_type": "code",
   "execution_count": 1,
   "id": "2e03ae5b",
   "metadata": {},
   "outputs": [],
   "source": [
    "import csv\n",
    "from bs4 import BeautifulSoup"
   ]
  },
  {
   "cell_type": "code",
   "execution_count": 2,
   "id": "c579851c",
   "metadata": {},
   "outputs": [],
   "source": [
    "from selenium import webdriver"
   ]
  },
  {
   "cell_type": "code",
   "execution_count": 3,
   "id": "8904195a",
   "metadata": {},
   "outputs": [],
   "source": [
    "driver=webdriver.Chrome()"
   ]
  },
  {
   "cell_type": "code",
   "execution_count": 89,
   "id": "8d9aca15",
   "metadata": {},
   "outputs": [],
   "source": [
    "\n",
    "url='https://www.amazon.in/s?k=bags&crid=2M096C61O4MLT&qid=1653308124&sprefix=ba%2Caps%2C283&ref=sr_pg_1'\n",
    "driver.get(url)"
   ]
  },
  {
   "cell_type": "code",
   "execution_count": 5,
   "id": "79ce1a87",
   "metadata": {},
   "outputs": [],
   "source": [
    "soup =BeautifulSoup(driver.page_source,'html.parser')"
   ]
  },
  {
   "cell_type": "code",
   "execution_count": 57,
   "id": "92be8099",
   "metadata": {},
   "outputs": [],
   "source": [
    "#results = soup.find_all('div',{'class':'s-list-col-right'})\n",
    "results = soup.find_all('div',{'data-component-type':'s-search-result'})\n"
   ]
  },
  {
   "cell_type": "code",
   "execution_count": 47,
   "id": "49754647",
   "metadata": {
    "scrolled": true
   },
   "outputs": [
    {
     "data": {
      "text/plain": [
       "22"
      ]
     },
     "execution_count": 47,
     "metadata": {},
     "output_type": "execute_result"
    }
   ],
   "source": [
    "len(results)"
   ]
  },
  {
   "cell_type": "code",
   "execution_count": 66,
   "id": "28ec3c00",
   "metadata": {},
   "outputs": [],
   "source": [
    "item = results[1]"
   ]
  },
  {
   "cell_type": "code",
   "execution_count": 67,
   "id": "531c3d51",
   "metadata": {},
   "outputs": [],
   "source": [
    "taga=item.h2.a"
   ]
  },
  {
   "cell_type": "code",
   "execution_count": 68,
   "id": "b081ea10",
   "metadata": {},
   "outputs": [
    {
     "data": {
      "text/plain": [
       "'Red Lemon Swisslook Polyester Bange Series 45L 15.6-inch Laptop Bags Backpack for Men and Women Waterproof USB Anti Theft Travel Backpack'"
      ]
     },
     "execution_count": 68,
     "metadata": {},
     "output_type": "execute_result"
    }
   ],
   "source": [
    "name=taga.text.strip()\n",
    "name"
   ]
  },
  {
   "cell_type": "code",
   "execution_count": 69,
   "id": "aa873a88",
   "metadata": {},
   "outputs": [
    {
     "data": {
      "text/plain": [
       "'https://www.amazon.com/sspa/click?ie=UTF8&spc=MTozOTE5MzI3Mjg4NDgyNTU3OjE2NzUyNjI5MTE6c3BfYXRmOjIwMDg2ODA0MTcyODk4OjowOjo&url=%2FSwisslook-Polyester-15-6-inch-Backpack-Waterproof%2Fdp%2FB07XYTZP4Z%2Fref%3Dsr_1_2_sspa%3Fcrid%3D2M096C61O4MLT%26keywords%3Dbags%26qid%3D1675262911%26sprefix%3Dba%252Caps%252C283%26sr%3D8-2-spons%26sp_csd%3Dd2lkZ2V0TmFtZT1zcF9hdGY%26psc%3D1'"
      ]
     },
     "execution_count": 69,
     "metadata": {},
     "output_type": "execute_result"
    }
   ],
   "source": [
    "produrl='https://www.amazon.com'+taga.get('href')\n",
    "produrl"
   ]
  },
  {
   "cell_type": "code",
   "execution_count": 70,
   "id": "c91de05b",
   "metadata": {},
   "outputs": [
    {
     "data": {
      "text/plain": [
       "'2,849'"
      ]
     },
     "execution_count": 70,
     "metadata": {},
     "output_type": "execute_result"
    }
   ],
   "source": [
    "price=item.find('span','a-price-whole').text\n",
    "price"
   ]
  },
  {
   "cell_type": "code",
   "execution_count": 28,
   "id": "2c237504",
   "metadata": {},
   "outputs": [
    {
     "data": {
      "text/plain": [
       "'3.9 out of 5 stars'"
      ]
     },
     "execution_count": 28,
     "metadata": {},
     "output_type": "execute_result"
    }
   ],
   "source": [
    "rating=item.i.text\n",
    "rating"
   ]
  },
  {
   "cell_type": "code",
   "execution_count": 29,
   "id": "ba462ba8",
   "metadata": {
    "scrolled": true
   },
   "outputs": [
    {
     "data": {
      "text/plain": [
       "'684'"
      ]
     },
     "execution_count": 29,
     "metadata": {},
     "output_type": "execute_result"
    }
   ],
   "source": [
    "no_rating=item.find('span','a-size-base s-underline-text').text\n",
    "no_rating"
   ]
  },
  {
   "cell_type": "code",
   "execution_count": 77,
   "id": "982d5e4f",
   "metadata": {},
   "outputs": [],
   "source": [
    "def extract_record(item):\n",
    "    taga=item.h2.a\n",
    "    name=taga.text.strip()\n",
    "    try:\n",
    "        produrl='https://www.amazon.com'+taga.get('href')\n",
    "        price=item.find('span','a-price-whole').text\n",
    "    except AttributeError:\n",
    "        return\n",
    "    try:\n",
    "        rating=item.i.text\n",
    "        no_rating=item.find('span','a-size-base s-underline-text').text\n",
    "    except AttributeError:\n",
    "        rating=''\n",
    "        no_rating=''\n",
    "    result=(name,rating,price,no_rating,produrl)\n",
    "    return result"
   ]
  },
  {
   "cell_type": "code",
   "execution_count": 79,
   "id": "e1c92456",
   "metadata": {},
   "outputs": [],
   "source": [
    "records=[]\n",
    "results = soup.find_all('div',{'data-component-type':'s-search-result'})\n",
    "\n",
    "for i in results:\n",
    "    \n",
    "    record=extract_record(i)\n",
    "    if record:\n",
    "        records.append(record)"
   ]
  },
  {
   "cell_type": "code",
   "execution_count": 88,
   "id": "6a04d41c",
   "metadata": {},
   "outputs": [
    {
     "data": {
      "text/plain": [
       "('Half Moon Large 37L Laptop Bag Backpack for menं Women Boys and Girls Luggage Travel Bags with 17.3 inches Laptop Compartment & Rain Cover',\n",
       " '3.9 out of 5 stars',\n",
       " '849',\n",
       " '2,124',\n",
       " 'https://www.amazon.com/Half-Moon-Backpack-Luggage-Compartment/dp/B09VCLZ3K4/ref=sr_1_16?crid=2M096C61O4MLT&keywords=bags&qid=1675262911&sprefix=ba%2Caps%2C283&sr=8-16')"
      ]
     },
     "execution_count": 88,
     "metadata": {},
     "output_type": "execute_result"
    }
   ],
   "source": [
    "records[15]"
   ]
  },
  {
   "cell_type": "code",
   "execution_count": 92,
   "id": "5e5c8d68",
   "metadata": {},
   "outputs": [],
   "source": [
    "def urlpage(pg):\n",
    "    pg=str(pg)\n",
    "    url='https://www.amazon.in/s?k=bags&crid=2M096C61O4MLT&qid=1653308124&sprefix=ba%2Caps%2C283&ref=sr_pg_1'\n",
    "    if(pg==1):\n",
    "        return url\n",
    "    else:\n",
    "        url='https://www.amazon.in/s?k=bags&page='+pg+'&crid=2M096C61O4MLT&qid=1675266421&sprefix=ba%2Caps%2C283&ref=sr_pg_'+pg\n",
    "        return url"
   ]
  },
  {
   "cell_type": "markdown",
   "id": "543406f1",
   "metadata": {},
   "source": [
    "# Main"
   ]
  },
  {
   "cell_type": "code",
   "execution_count": 96,
   "id": "df45edfd",
   "metadata": {},
   "outputs": [],
   "source": [
    "import csv\n",
    "from bs4 import BeautifulSoup\n",
    "from selenium import webdriver\n",
    "driver=webdriver.Chrome()\n",
    "def urlpage(pg):\n",
    "    pg=str(pg)\n",
    "    url='https://www.amazon.in/s?k=bags&crid=2M096C61O4MLT&qid=1653308124&sprefix=ba%2Caps%2C283&ref=sr_pg_1'\n",
    "    if(pg==1):\n",
    "        return url\n",
    "    else:\n",
    "        url='https://www.amazon.in/s?k=bags&page='+pg+'&crid=2M096C61O4MLT&qid=1675266421&sprefix=ba%2Caps%2C283&ref=sr_pg_'+pg\n",
    "        return url\n",
    "def extract_record(item):\n",
    "    taga=item.h2.a\n",
    "    name=taga.text.strip()\n",
    "    try:\n",
    "        produrl='https://www.amazon.com'+taga.get('href')\n",
    "        price=item.find('span','a-price-whole').text\n",
    "    except AttributeError:\n",
    "        return\n",
    "    try:\n",
    "        rating=item.i.text\n",
    "        no_rating=item.find('span','a-size-base s-underline-text').text\n",
    "    except AttributeError:\n",
    "        rating=''\n",
    "        no_rating=''\n",
    "    result=(name,price,rating,no_rating,produrl)\n",
    "    return result\n",
    "records=[]\n",
    "for page in range(1,21):\n",
    "    url=urlpage(page)\n",
    "    driver.get(url)\n",
    "    soup =BeautifulSoup(driver.page_source,'html.parser')\n",
    "    results = soup.find_all('div',{'data-component-type':'s-search-result'})\n",
    "    for i in results:\n",
    "        record=extract_record(i)\n",
    "        if record:\n",
    "            records.append(record)"
   ]
  },
  {
   "cell_type": "code",
   "execution_count": 99,
   "id": "844800f0",
   "metadata": {},
   "outputs": [],
   "source": [
    "with open('results.csv','w',newline='',encoding='utf-8') as f:\n",
    "    writer = csv.writer(f)\n",
    "    writer.writerow(['Name','Price','Rating','No. of Rating','Link'])\n",
    "    writer.writerows(records)"
   ]
  }
 ],
 "metadata": {
  "kernelspec": {
   "display_name": "Python 3 (ipykernel)",
   "language": "python",
   "name": "python3"
  },
  "language_info": {
   "codemirror_mode": {
    "name": "ipython",
    "version": 3
   },
   "file_extension": ".py",
   "mimetype": "text/x-python",
   "name": "python",
   "nbconvert_exporter": "python",
   "pygments_lexer": "ipython3",
   "version": "3.9.13"
  }
 },
 "nbformat": 4,
 "nbformat_minor": 5
}
